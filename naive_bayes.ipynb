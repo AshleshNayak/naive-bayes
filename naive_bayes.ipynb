{
  "nbformat": 4,
  "nbformat_minor": 0,
  "metadata": {
    "colab": {
      "provenance": [],
      "authorship_tag": "ABX9TyNLphTNaidO5kN72Rx6KQG+",
      "include_colab_link": true
    },
    "kernelspec": {
      "name": "python3",
      "display_name": "Python 3"
    },
    "language_info": {
      "name": "python"
    }
  },
  "cells": [
    {
      "cell_type": "markdown",
      "metadata": {
        "id": "view-in-github",
        "colab_type": "text"
      },
      "source": [
        "<a href=\"https://colab.research.google.com/github/AshleshNayak/naive-bayes/blob/main/naive_bayes.ipynb\" target=\"_parent\"><img src=\"https://colab.research.google.com/assets/colab-badge.svg\" alt=\"Open In Colab\"/></a>"
      ]
    },
    {
      "cell_type": "code",
      "execution_count": null,
      "metadata": {
        "colab": {
          "base_uri": "https://localhost:8080/"
        },
        "id": "qAd9XZpoR2rW",
        "outputId": "50209ece-d97b-4714-c85c-d791a18aa04a"
      },
      "outputs": [
        {
          "output_type": "stream",
          "name": "stdout",
          "text": [
            "Requirement already satisfied: neurokit2 in /usr/local/lib/python3.12/dist-packages (0.2.12)\n",
            "Requirement already satisfied: joblib in /usr/local/lib/python3.12/dist-packages (1.5.2)\n",
            "Requirement already satisfied: requests in /usr/local/lib/python3.12/dist-packages (from neurokit2) (2.32.4)\n",
            "Requirement already satisfied: numpy in /usr/local/lib/python3.12/dist-packages (from neurokit2) (2.0.2)\n",
            "Requirement already satisfied: pandas in /usr/local/lib/python3.12/dist-packages (from neurokit2) (2.2.2)\n",
            "Requirement already satisfied: scipy in /usr/local/lib/python3.12/dist-packages (from neurokit2) (1.16.1)\n",
            "Requirement already satisfied: scikit-learn>=1.0.0 in /usr/local/lib/python3.12/dist-packages (from neurokit2) (1.6.1)\n",
            "Requirement already satisfied: matplotlib>=3.5.0 in /usr/local/lib/python3.12/dist-packages (from neurokit2) (3.10.0)\n",
            "Requirement already satisfied: PyWavelets>=1.4.0 in /usr/local/lib/python3.12/dist-packages (from neurokit2) (1.9.0)\n",
            "Requirement already satisfied: contourpy>=1.0.1 in /usr/local/lib/python3.12/dist-packages (from matplotlib>=3.5.0->neurokit2) (1.3.3)\n",
            "Requirement already satisfied: cycler>=0.10 in /usr/local/lib/python3.12/dist-packages (from matplotlib>=3.5.0->neurokit2) (0.12.1)\n",
            "Requirement already satisfied: fonttools>=4.22.0 in /usr/local/lib/python3.12/dist-packages (from matplotlib>=3.5.0->neurokit2) (4.59.2)\n",
            "Requirement already satisfied: kiwisolver>=1.3.1 in /usr/local/lib/python3.12/dist-packages (from matplotlib>=3.5.0->neurokit2) (1.4.9)\n",
            "Requirement already satisfied: packaging>=20.0 in /usr/local/lib/python3.12/dist-packages (from matplotlib>=3.5.0->neurokit2) (25.0)\n",
            "Requirement already satisfied: pillow>=8 in /usr/local/lib/python3.12/dist-packages (from matplotlib>=3.5.0->neurokit2) (11.3.0)\n",
            "Requirement already satisfied: pyparsing>=2.3.1 in /usr/local/lib/python3.12/dist-packages (from matplotlib>=3.5.0->neurokit2) (3.2.3)\n",
            "Requirement already satisfied: python-dateutil>=2.7 in /usr/local/lib/python3.12/dist-packages (from matplotlib>=3.5.0->neurokit2) (2.9.0.post0)\n",
            "Requirement already satisfied: threadpoolctl>=3.1.0 in /usr/local/lib/python3.12/dist-packages (from scikit-learn>=1.0.0->neurokit2) (3.6.0)\n",
            "Requirement already satisfied: pytz>=2020.1 in /usr/local/lib/python3.12/dist-packages (from pandas->neurokit2) (2025.2)\n",
            "Requirement already satisfied: tzdata>=2022.7 in /usr/local/lib/python3.12/dist-packages (from pandas->neurokit2) (2025.2)\n",
            "Requirement already satisfied: charset_normalizer<4,>=2 in /usr/local/lib/python3.12/dist-packages (from requests->neurokit2) (3.4.3)\n",
            "Requirement already satisfied: idna<4,>=2.5 in /usr/local/lib/python3.12/dist-packages (from requests->neurokit2) (3.10)\n",
            "Requirement already satisfied: urllib3<3,>=1.21.1 in /usr/local/lib/python3.12/dist-packages (from requests->neurokit2) (2.5.0)\n",
            "Requirement already satisfied: certifi>=2017.4.17 in /usr/local/lib/python3.12/dist-packages (from requests->neurokit2) (2025.8.3)\n",
            "Requirement already satisfied: six>=1.5 in /usr/local/lib/python3.12/dist-packages (from python-dateutil>=2.7->matplotlib>=3.5.0->neurokit2) (1.17.0)\n"
          ]
        }
      ],
      "source": [
        "!pip install neurokit2 joblib\n",
        "\n",
        "import numpy as np\n",
        "import pandas as pd\n",
        "import seaborn as sns\n",
        "import matplotlib.pyplot as plt\n",
        "\n",
        "from sklearn.model_selection import train_test_split\n",
        "from sklearn.naive_bayes import GaussianNB\n",
        "from sklearn.metrics import classification_report, confusion_matrix\n",
        "from sklearn.impute import SimpleImputer\n",
        "import joblib"
      ]
    },
    {
      "cell_type": "code",
      "source": [
        "# Load merged CSV file instead of WESAD.pkl\n",
        "df = pd.read_csv(\"merged_file_all_test.csv\")\n",
        "\n",
        "print(\"\\n--- Dataset Loaded ---\")\n",
        "print(f\"Shape: {df.shape}\")\n",
        "print(df.head())"
      ],
      "metadata": {
        "colab": {
          "base_uri": "https://localhost:8080/"
        },
        "id": "Rz_sttA5R9m7",
        "outputId": "27e9e978-3bd1-4f0d-c7a6-205be6a019fc"
      },
      "execution_count": null,
      "outputs": [
        {
          "output_type": "stream",
          "name": "stdout",
          "text": [
            "\n",
            "--- Dataset Loaded ---\n",
            "Shape: (1436, 20)\n",
            "   HRV_MeanNN    HRV_SDNN  HRV_RMSSD   HRV_SDSD  HRV_CVNN  HRV_CVSD  \\\n",
            "0  704.390244   72.383185  51.700669  52.356854  0.102760  0.073398   \n",
            "1  781.351351  105.003480  78.436031  79.316188  0.134387  0.100385   \n",
            "2  814.285714   77.934777  57.321674  58.181061  0.095709  0.070395   \n",
            "3  875.367965   55.925687  48.130218  48.822015  0.063888  0.054983   \n",
            "4  841.554622   55.473860  54.611689  55.387019  0.065918  0.064894   \n",
            "\n",
            "   HRV_MedianNN  HRV_MadNN  HRV_MCVNN   HRV_IQRNN  HRV_SDRMSSD  HRV_Prc20NN  \\\n",
            "0    684.285714     52.950   0.077380   82.857143     1.400043   651.428571   \n",
            "1    782.857143    137.670   0.175856  184.285714     1.338715   688.857143   \n",
            "2    814.285714     95.310   0.117047  119.285714     1.359604   745.714286   \n",
            "3    882.857143     50.832   0.057577   62.857143     1.161966   834.285714   \n",
            "4    855.714286     60.363   0.070541   84.285714     1.015787   789.428571   \n",
            "\n",
            "   HRV_Prc80NN  HRV_pNN50  HRV_pNN20   HRV_MinNN   HRV_MaxNN    HRV_HTI  \\\n",
            "0   738.571429  14.634146  56.097561  584.285714  871.428571   5.125000   \n",
            "1   881.714286  29.729730  64.864865  625.714286  990.000000   7.400000   \n",
            "2   882.571429  28.571429  60.000000  638.571429  938.571429  11.666667   \n",
            "3   923.714286  27.272727  63.636364  737.142857  957.142857   8.250000   \n",
            "4   888.000000  29.411765  70.588235  731.428571  954.285714   6.800000   \n",
            "\n",
            "   HRV_TINN  Label  \n",
            "0   70.3125      1  \n",
            "1   62.5000      1  \n",
            "2  179.6875      1  \n",
            "3  132.8125      1  \n",
            "4  132.8125      1  \n"
          ]
        }
      ]
    },
    {
      "cell_type": "code",
      "source": [
        "# Replace infinities with NaN\n",
        "df.replace([np.inf, -np.inf], np.nan, inplace=True)\n",
        "\n",
        "# Drop columns that are completely NaN\n",
        "df.dropna(axis=1, how='all', inplace=True)\n",
        "\n",
        "# Map label values (1 = No Stress, 2 = Stress)\n",
        "df[\"Label\"] = df[\"Label\"].map({1: \"No Stress\", 2: \"Stress\"})\n",
        "\n",
        "# Remove rows where Label is NaN (from other classes like amusement, meditation etc.)\n",
        "df.dropna(subset=[\"Label\"], inplace=True)\n",
        "\n",
        "# Impute remaining NaNs with median values\n",
        "imputer = SimpleImputer(strategy=\"median\")\n",
        "X = df.drop(\"Label\", axis=1)\n",
        "X = pd.DataFrame(imputer.fit_transform(X), columns=X.columns)\n",
        "\n",
        "y = df[\"Label\"]\n",
        "\n",
        "print(\"\\n--- Dataset Cleaned ---\")\n",
        "print(f\"Final Shape: {X.shape}\")\n",
        "print(f\"Remaining NaNs: {X.isna().sum().sum()}\")\n",
        "print(y.value_counts())  # Check class balance"
      ],
      "metadata": {
        "colab": {
          "base_uri": "https://localhost:8080/"
        },
        "id": "V8C-6mINTE41",
        "outputId": "6e74a364-9915-47a4-a3f9-f9a275bdc380"
      },
      "execution_count": null,
      "outputs": [
        {
          "output_type": "stream",
          "name": "stdout",
          "text": [
            "\n",
            "--- Dataset Cleaned ---\n",
            "Final Shape: (899, 19)\n",
            "Remaining NaNs: 0\n",
            "Label\n",
            "No Stress    581\n",
            "Stress       318\n",
            "Name: count, dtype: int64\n"
          ]
        }
      ]
    },
    {
      "cell_type": "code",
      "source": [
        "print(\"\\n--- TRAINING NAIVE BAYES MODEL ---\")\n",
        "\n",
        "# Train/test split\n",
        "X_train, X_test, y_train, y_test = train_test_split(\n",
        "    X, y, test_size=0.2, random_state=42, stratify=y\n",
        ")\n",
        "\n",
        "# Train Naive Bayes\n",
        "nb_classifier = GaussianNB()\n",
        "nb_classifier.fit(X_train, y_train)\n",
        "y_pred = nb_classifier.predict(X_test)\n",
        "\n",
        "# Classification Report\n",
        "print(\"\\n--- Naive Bayes Classification Report ---\")\n",
        "print(classification_report(y_test, y_pred))"
      ],
      "metadata": {
        "colab": {
          "base_uri": "https://localhost:8080/"
        },
        "id": "Fsw5ehgiUjkF",
        "outputId": "23cd8cc8-5200-4af1-b39a-d8bd24cb57af"
      },
      "execution_count": null,
      "outputs": [
        {
          "output_type": "stream",
          "name": "stdout",
          "text": [
            "\n",
            "--- TRAINING NAIVE BAYES MODEL ---\n",
            "\n",
            "--- Naive Bayes Classification Report ---\n",
            "              precision    recall  f1-score   support\n",
            "\n",
            "   No Stress       0.82      0.76      0.79       116\n",
            "      Stress       0.62      0.70      0.66        64\n",
            "\n",
            "    accuracy                           0.74       180\n",
            "   macro avg       0.72      0.73      0.72       180\n",
            "weighted avg       0.75      0.74      0.74       180\n",
            "\n"
          ]
        }
      ]
    },
    {
      "cell_type": "code",
      "source": [
        "# Confusion Matrix\n",
        "cm = confusion_matrix(y_test, y_pred, labels=nb_classifier.classes_)\n",
        "plt.figure(figsize=(8, 6))\n",
        "sns.heatmap(cm, annot=True, fmt='d', cmap='Greens',\n",
        "            xticklabels=nb_classifier.classes_,\n",
        "            yticklabels=nb_classifier.classes_)\n",
        "plt.title('Naive Bayes Confusion Matrix')\n",
        "plt.ylabel('True Label')\n",
        "plt.xlabel('Predicted Label')\n",
        "plt.show()"
      ],
      "metadata": {
        "colab": {
          "base_uri": "https://localhost:8080/",
          "height": 564
        },
        "id": "C35op0aqWXyB",
        "outputId": "b0dd21e7-049e-4626-862d-f76405bf8d7d"
      },
      "execution_count": null,
      "outputs": [
        {
          "output_type": "display_data",
          "data": {
            "text/plain": [
              "<Figure size 800x600 with 2 Axes>"
            ],
            "image/png": "[encoded data removed]"
          },
          "metadata": {}
        }
      ]
    },
    {
      "cell_type": "code",
      "source": [
        "import joblib\n",
        "\n",
        "# Save model in the current working directory\n",
        "joblib.dump(nb_classifier, \"naive_bayes_model.joblib\")\n",
        "\n",
        "!ls -lh  # check if the file is created"
      ],
      "metadata": {
        "colab": {
          "base_uri": "https://localhost:8080/"
        },
        "id": "vQsl_HAxW0oH",
        "outputId": "399c8386-0083-4972-95f3-716cc4434d58"
      },
      "execution_count": null,
      "outputs": [
        {
          "output_type": "stream",
          "name": "stdout",
          "text": [
            "total 452K\n",
            "-rw-r--r-- 1 root root 440K Sep  5 05:16 merged_file_all_test.csv\n",
            "-rw-r--r-- 1 root root 1.9K Sep  5 05:53 naive_bayes_model.joblib\n",
            "-rw-r--r-- 1 root root 1.9K Sep  5 05:48 naive_bayes_model.pkl\n",
            "drwxr-xr-x 1 root root 4.0K Sep  3 13:36 sample_data\n"
          ]
        }
      ]
    },
    {
      "cell_type": "code",
      "source": [
        "from google.colab import files\n",
        "files.download(\"naive_bayes_model.joblib\")"
      ],
      "metadata": {
        "colab": {
          "base_uri": "https://localhost:8080/",
          "height": 34
        },
        "id": "HrbVrbqebeLX",
        "outputId": "840dfcf5-ec51-49f8-8566-85984ef9e8c6"
      },
      "execution_count": null,
      "outputs": [
        {
          "output_type": "display_data",
          "data": {
            "text/plain": [
              "<IPython.core.display.Javascript object>"
            ],
            "application/javascript": [
              "\n",
              "    async function download(id, filename, size) {\n",
              "      if (!google.colab.kernel.accessAllowed) {\n",
              "        return;\n",
              "      }\n",
              "      const div = document.createElement('div');\n",
              "      const label = document.createElement('label');\n",
              "      label.textContent = `Downloading \"${filename}\": `;\n",
              "      div.appendChild(label);\n",
              "      const progress = document.createElement('progress');\n",
              "      progress.max = size;\n",
              "      div.appendChild(progress);\n",
              "      document.body.appendChild(div);\n",
              "\n",
              "      const buffers = [];\n",
              "      let downloaded = 0;\n",
              "\n",
              "      const channel = await google.colab.kernel.comms.open(id);\n",
              "      // Send a message to notify the kernel that we're ready.\n",
              "      channel.send({})\n",
              "\n",
              "      for await (const message of channel.messages) {\n",
              "        // Send a message to notify the kernel that we're ready.\n",
              "        channel.send({})\n",
              "        if (message.buffers) {\n",
              "          for (const buffer of message.buffers) {\n",
              "            buffers.push(buffer);\n",
              "            downloaded += buffer.byteLength;\n",
              "            progress.value = downloaded;\n",
              "          }\n",
              "        }\n",
              "      }\n",
              "      const blob = new Blob(buffers, {type: 'application/binary'});\n",
              "      const a = document.createElement('a');\n",
              "      a.href = window.URL.createObjectURL(blob);\n",
              "      a.download = filename;\n",
              "      div.appendChild(a);\n",
              "      a.click();\n",
              "      div.remove();\n",
              "    }\n",
              "  "
            ]
          },
          "metadata": {}
        },
        {
          "output_type": "display_data",
          "data": {
            "text/plain": [
              "<IPython.core.display.Javascript object>"
            ],
            "application/javascript": [
              "download(\"download_ff5f5ebf-b7de-474a-8784-de29a8fa5c9b\", \"naive_bayes_model.joblib\", 1927)"
            ]
          },
          "metadata": {}
        }
      ]
    },
    {
      "cell_type": "code",
      "source": [],
      "metadata": {
        "id": "wWziAvmicC2C"
      },
      "execution_count": null,
      "outputs": []
    }
  ]
}